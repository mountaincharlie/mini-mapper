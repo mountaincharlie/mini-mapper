{
 "cells": [
  {
   "cell_type": "code",
   "execution_count": null,
   "metadata": {},
   "outputs": [],
   "source": [
    "import ee\n",
    "import geemap\n",
    "import numpy as np\n",
    "import folium\n",
    "import matplotlib.pyplot as plt\n",
    "\n",
    "ee.Authenticate()\n",
    "ee.Initialize(project='mini-mapper')\n",
    "print(ee.String('Hello from the Earth Engine servers!').getInfo())\n"
   ]
  },
  {
   "cell_type": "code",
   "execution_count": null,
   "metadata": {},
   "outputs": [],
   "source": [
    "# TODO: these variables will be set from the user input passed through from the Rust backend\n",
    "\n",
    "geojson_object = {\n",
    "  \"type\": \"Polygon\",\n",
    "  \"coordinates\": [\n",
    "    [\n",
    "      [\n",
    "        -3.283555,\n",
    "        51.512079\n",
    "      ],\n",
    "      [\n",
    "        -3.098898,\n",
    "        51.513361\n",
    "      ],\n",
    "      [\n",
    "        -3.096152,\n",
    "        51.444054\n",
    "      ],\n",
    "      [\n",
    "        -3.269139,\n",
    "        51.441913\n",
    "      ],\n",
    "      [\n",
    "        -3.283555,\n",
    "        51.512079\n",
    "      ]\n",
    "    ]\n",
    "  ]\n",
    "}\n",
    "\n",
    "# AOI polygon\n",
    "extent = ee.Geometry(geojson_object)\n",
    "\n",
    "# date range\n",
    "start_date = ee.Date.fromYMD(2024,1,1)\n",
    "end_date = ee.Date.fromYMD(2024,6,30)\n",
    "\n",
    "# sensor type (S2)\n",
    "sensor_collection = \"COPERNICUS/S2_SR_HARMONIZED\"\n",
    "\n",
    "# name of bands (depends on analysis type?)\n",
    "\n",
    "# cloud mask percentage\n",
    "cloud_mask_percentage = 20\n",
    "\n",
    "# initalize map\n",
    "map = geemap.Map()\n",
    "\n",
    "color = ['FFFFFF', 'CE7E45', 'DF923D', 'F1B555', 'FCD163', '99B718',\n",
    "               '74A901', '66A000', '529400', '3E8601', '207401', '056201',\n",
    "               '004C00', '023B01', '012E01', '011D01', '011301']\n",
    "pallete = {\"min\":0, \"max\":1, 'palette':color}"
   ]
  },
  {
   "cell_type": "code",
   "execution_count": null,
   "metadata": {},
   "outputs": [],
   "source": [
    "# accessing the data with the above filters\n",
    "imagery = ee.ImageCollection(sensor_collection) \\\n",
    "    .filterBounds(extent) \\\n",
    "    .filterDate(start_date, end_date) \\\n",
    "    .select('B1','B2','B3','B4','B5','B6','B7','B8','B8A','B9','B11','B12') \\\n",
    "    .filter(ee.Filter.lt('CLOUDY_PIXEL_PERCENTAGE', cloud_mask_percentage))\n",
    "\n",
    "# TODO: how to make the bands to select a variable as they may depend on future sensor options"
   ]
  },
  {
   "cell_type": "code",
   "execution_count": null,
   "metadata": {},
   "outputs": [],
   "source": [
    "# metadata: number of images\n",
    "# display(imagery.size())\n",
    "\n",
    "# # metadata: full json of the unprocessed image collection\n",
    "# print(imagery)\n",
    "\n",
    "# # metadata: get the exact dates of the retrieved images used for the average\n",
    "# dates = imagery.aggregate_array('system:time_start').getInfo()\n",
    "# dates = [np.datetime64(ee.Date(date).format('YYYY-MM-dd').getInfo()) for date in dates]\n",
    "# print(f'Dates: {dates}')\n",
    "\n",
    "# TODO: combine into one metadata object to be passed back through to the frontend"
   ]
  },
  {
   "cell_type": "code",
   "execution_count": null,
   "metadata": {},
   "outputs": [],
   "source": [
    "# NDVI calculation function (B8 = NIR, B4 = Red)\n",
    "def calculate_ndvi(img):\n",
    "    ndvi = img.normalizedDifference(['B8', 'B4']).rename('NDVI')\n",
    "    return img.addBands(ndvi)\n",
    "\n",
    "# average the data, apply the NDVI calculation and clip to extent\n",
    "imagery_avg = imagery.median()\n",
    "imagery_avg_ndvi = calculate_ndvi(imagery_avg).select('NDVI')\n",
    "clipped_avg_ndvi = imagery_avg_ndvi.clip(extent)\n",
    "\n",
    "# define parameters for visualising NDVI\n",
    "ndvi_params = {'min': 0, 'max': 1, 'palette': ['blue', 'white', 'green']}"
   ]
  },
  {
   "cell_type": "code",
   "execution_count": null,
   "metadata": {},
   "outputs": [],
   "source": [
    "# visualising with folium\n",
    "map_center = extent.centroid().coordinates().getInfo()[::-1]  # center the map on the extent\n",
    "folium_map = folium.Map(location=map_center, zoom_start=10)\n",
    "\n",
    "# add the layer to the map\n",
    "folium.TileLayer(\n",
    "    tiles=clipped_avg_ndvi.getMapId(ndvi_params)['tile_fetcher'].url_format,\n",
    "    attr='Google Earth Engine',\n",
    "    overlay=True,\n",
    "    name='NDVI'\n",
    ").add_to(folium_map)\n",
    "\n",
    "folium_map"
   ]
  },
  {
   "cell_type": "code",
   "execution_count": null,
   "metadata": {},
   "outputs": [],
   "source": [
    "# visual inspection\n",
    "map.centerObject(extent)\n",
    "map.addLayer(clipped_avg_ndvi, ndvi_params, 'NDVI')\n",
    "map"
   ]
  }
 ],
 "metadata": {
  "kernelspec": {
   "display_name": "env",
   "language": "python",
   "name": "python3"
  },
  "language_info": {
   "codemirror_mode": {
    "name": "ipython",
    "version": 3
   },
   "file_extension": ".py",
   "mimetype": "text/x-python",
   "name": "python",
   "nbconvert_exporter": "python",
   "pygments_lexer": "ipython3",
   "version": "3.12.3"
  }
 },
 "nbformat": 4,
 "nbformat_minor": 2
}
